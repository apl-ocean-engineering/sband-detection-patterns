{
 "cells": [
  {
   "cell_type": "code",
   "execution_count": 35,
   "metadata": {},
   "outputs": [],
   "source": [
    "import numpy as np\n",
    "import scipy.stats as stats\n",
    "\n",
    "import matplotlib.pyplot as plt\n",
    "%matplotlib inline  "
   ]
  },
  {
   "cell_type": "code",
   "execution_count": 36,
   "metadata": {},
   "outputs": [],
   "source": [
    "## Signals are defined by a rate in rpm and an initial phase (in degrees).  \n",
    "## Signals are pointed at the detector pi phase\n",
    "\n",
    "def rpm2radpersec(rpm):\n",
    "    return rpm/60*(2*np.pi)\n",
    "\n",
    "signals = [[1, 0]]\n",
    "\n",
    "## Transform signals to rad/sec and radians phase\n",
    "signals = [[rpm2radpersec(a[0]), np.radians(a[1])] for a in signals]"
   ]
  },
  {
   "cell_type": "code",
   "execution_count": null,
   "metadata": {},
   "outputs": [],
   "source": [
    "sband_hz=100\n",
    "buffer_secs=60\n",
    "\n",
    "np.random.seed(0)\n",
    "\n",
    "detector_mean = np.pi\n",
    "detector_var  = 0.1\n",
    "\n",
    "buffer_len = sband_hz*buffer_secs\n",
    "\n",
    "buffer = np.zeros((buffer_len,1))\n",
    "\n",
    "for signal in signals:\n",
    "    angle = np.arange(0, buffer_len)\n",
    "    angle = [(signal[0]*x + signal[1])%(2*np.pi) for x in angle] \n",
    "\n",
    "    p = [stats.norm.pdf(a,detector_mean,detector_var) for a in angle]\n",
    "    \n",
    "    for i,prob in enumerate(p):\n",
    "        if np.random.random() < prob:\n",
    "            buffer[i] = 1\n",
    "    \n",
    "    \n",
    "plt.figure(1, figsize=(16, 6))\n",
    "plt.plot(buffer)\n",
    "plt.show()  "
   ]
  },
  {
   "cell_type": "code",
   "execution_count": null,
   "metadata": {},
   "outputs": [],
   "source": []
  }
 ],
 "metadata": {
  "kernelspec": {
   "display_name": "Python 3",
   "language": "python",
   "name": "python3"
  },
  "language_info": {
   "codemirror_mode": {
    "name": "ipython",
    "version": 3
   },
   "file_extension": ".py",
   "mimetype": "text/x-python",
   "name": "python",
   "nbconvert_exporter": "python",
   "pygments_lexer": "ipython3",
   "version": "3.6.8"
  }
 },
 "nbformat": 4,
 "nbformat_minor": 2
}
