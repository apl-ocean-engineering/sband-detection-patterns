{
 "cells": [
  {
   "cell_type": "code",
   "execution_count": 1,
   "metadata": {},
   "outputs": [],
   "source": [
    "import numpy as np\n",
    "import pandas as pd\n",
    "import scipy.stats as stats\n",
    "import scipy.signal as signal\n",
    "\n",
    "import matplotlib.pyplot as plt\n",
    "%matplotlib inline  "
   ]
  },
  {
   "cell_type": "code",
   "execution_count": 2,
   "metadata": {},
   "outputs": [],
   "source": [
    "## Signals are defined by a rate in rpm and an initial phase (in degrees).  \n",
    "## Signals are pointed at the detector pi phase\n",
    "\n",
    "def rpm2radpersec(rpm):\n",
    "    return rpm/60*(2*np.pi)\n",
    "\n",
    "signals = [[12, 0], [6,43] ]\n",
    "\n",
    "## Transform signals to rad/sec and radians phase\n",
    "signals = [[rpm2radpersec(a[0]), np.radians(a[1])] for a in signals]"
   ]
  },
  {
   "cell_type": "code",
   "execution_count": 3,
   "metadata": {},
   "outputs": [
    {
     "ename": "TypeError",
     "evalue": "'module' object is not subscriptable",
     "output_type": "error",
     "traceback": [
      "\u001b[0;31m---------------------------------------------------------------------------\u001b[0m",
      "\u001b[0;31mTypeError\u001b[0m                                 Traceback (most recent call last)",
      "\u001b[0;32m<ipython-input-3-d59f3b9a8dd5>\u001b[0m in \u001b[0;36m<module>\u001b[0;34m\u001b[0m\n\u001b[1;32m     17\u001b[0m \u001b[0;34m\u001b[0m\u001b[0m\n\u001b[1;32m     18\u001b[0m \u001b[0;32mfor\u001b[0m \u001b[0mi\u001b[0m\u001b[0;34m,\u001b[0m\u001b[0msig\u001b[0m \u001b[0;32min\u001b[0m \u001b[0menumerate\u001b[0m\u001b[0;34m(\u001b[0m\u001b[0msignals\u001b[0m\u001b[0;34m)\u001b[0m\u001b[0;34m:\u001b[0m\u001b[0;34m\u001b[0m\u001b[0;34m\u001b[0m\u001b[0m\n\u001b[0;32m---> 19\u001b[0;31m     \u001b[0mangle\u001b[0m \u001b[0;34m=\u001b[0m \u001b[0;34m(\u001b[0m\u001b[0msig\u001b[0m\u001b[0;34m[\u001b[0m\u001b[0;36m0\u001b[0m\u001b[0;34m]\u001b[0m\u001b[0;34m*\u001b[0m\u001b[0mt\u001b[0m \u001b[0;34m+\u001b[0m \u001b[0msignal\u001b[0m\u001b[0;34m[\u001b[0m\u001b[0;36m1\u001b[0m\u001b[0;34m]\u001b[0m\u001b[0;34m)\u001b[0m\u001b[0;34m%\u001b[0m\u001b[0;34m(\u001b[0m\u001b[0;36m2\u001b[0m\u001b[0;34m*\u001b[0m\u001b[0mnp\u001b[0m\u001b[0;34m.\u001b[0m\u001b[0mpi\u001b[0m\u001b[0;34m)\u001b[0m\u001b[0;34m\u001b[0m\u001b[0;34m\u001b[0m\u001b[0m\n\u001b[0m\u001b[1;32m     20\u001b[0m \u001b[0;34m\u001b[0m\u001b[0m\n\u001b[1;32m     21\u001b[0m     \u001b[0mp_detect\u001b[0m \u001b[0;34m=\u001b[0m \u001b[0mstats\u001b[0m\u001b[0;34m.\u001b[0m\u001b[0mnorm\u001b[0m\u001b[0;34m.\u001b[0m\u001b[0mpdf\u001b[0m\u001b[0;34m(\u001b[0m\u001b[0mangle\u001b[0m\u001b[0;34m,\u001b[0m\u001b[0mdetector_mean\u001b[0m\u001b[0;34m,\u001b[0m\u001b[0mdetector_var\u001b[0m\u001b[0;34m)\u001b[0m \u001b[0;34m*\u001b[0m \u001b[0mp_detection_max\u001b[0m \u001b[0;34m/\u001b[0m \u001b[0mstats\u001b[0m\u001b[0;34m.\u001b[0m\u001b[0mnorm\u001b[0m\u001b[0;34m.\u001b[0m\u001b[0mpdf\u001b[0m\u001b[0;34m(\u001b[0m\u001b[0;36m0\u001b[0m\u001b[0;34m,\u001b[0m\u001b[0;36m0\u001b[0m\u001b[0;34m,\u001b[0m\u001b[0mdetector_var\u001b[0m\u001b[0;34m)\u001b[0m\u001b[0;34m\u001b[0m\u001b[0;34m\u001b[0m\u001b[0m\n",
      "\u001b[0;31mTypeError\u001b[0m: 'module' object is not subscriptable"
     ]
    },
    {
     "data": {
      "text/plain": [
       "<Figure size 1152x1152 with 0 Axes>"
      ]
     },
     "metadata": {},
     "output_type": "display_data"
    }
   ],
   "source": [
    "sband_hz=10\n",
    "buffer_secs=60\n",
    "\n",
    "np.random.seed(0)\n",
    "\n",
    "detector_mean = np.pi\n",
    "detector_var  = 0.1\n",
    "p_detection_max = 1.0\n",
    "p_detection_random = 0.00\n",
    "\n",
    "buffer_len = sband_hz*buffer_secs\n",
    "\n",
    "buffer = np.zeros((buffer_len))\n",
    "t = np.arange(0,buffer_len) / sband_hz\n",
    "\n",
    "plt.figure(figsize=(16, 16))\n",
    "\n",
    "for i,sig in enumerate(signals):\n",
    "    angle = (sig[0]*t + signal[1])%(2*np.pi)\n",
    "\n",
    "    p_detect = stats.norm.pdf(angle,detector_mean,detector_var) * p_detection_max / stats.norm.pdf(0,0,detector_var)\n",
    "    prob = np.random.random(buffer_len)\n",
    "    \n",
    "    ## Add a constant probability of random noise\n",
    "    p_detect = np.clip( p_detect, p_detection_random, None )\n",
    "\n",
    "    plt.subplot(len(signals)+1,1,i+1)\n",
    "    plt.plot(p_detect, color='r')\n",
    "    \n",
    "    buffer = buffer+np.clip( np.sign(p_detect-prob), 0, 1 )\n",
    "    \n",
    "## Normalize down to 0-1\n",
    "buffer = np.clip( buffer, 0, 1)\n",
    "    \n",
    "plt.subplot(len(signals)+1,1,len(signals)+1)\n",
    "plt.plot(buffer)\n",
    "plt.show()  "
   ]
  },
  {
   "cell_type": "markdown",
   "metadata": {},
   "source": [
    "# Detection"
   ]
  },
  {
   "cell_type": "code",
   "execution_count": null,
   "metadata": {},
   "outputs": [],
   "source": [
    "c = np.correlate( buffer, buffer, mode=\"full\" )\n",
    "\n",
    "## Only look at one half\n",
    "c = c[c.size//2:]\n",
    "\n",
    "plt.figure(figsize=(16, 8))\n",
    "plt.plot(c)\n",
    "plt.show()"
   ]
  },
  {
   "cell_type": "code",
   "execution_count": null,
   "metadata": {},
   "outputs": [],
   "source": [
    "f,pxx = signal.periodogram( buffer, sband_hz, window='hamming' )\n",
    "\n",
    "plt.figure(figsize=(16, 8))\n",
    "plt.semilogy(f,pxx)\n",
    "plt.xlabel(\"frequency Hz\")\n",
    "plt.show()\n"
   ]
  },
  {
   "cell_type": "code",
   "execution_count": null,
   "metadata": {},
   "outputs": [],
   "source": []
  }
 ],
 "metadata": {
  "kernelspec": {
   "display_name": "Python 3",
   "language": "python",
   "name": "python3"
  },
  "language_info": {
   "codemirror_mode": {
    "name": "ipython",
    "version": 3
   },
   "file_extension": ".py",
   "mimetype": "text/x-python",
   "name": "python",
   "nbconvert_exporter": "python",
   "pygments_lexer": "ipython3",
   "version": "3.6.8"
  }
 },
 "nbformat": 4,
 "nbformat_minor": 2
}
